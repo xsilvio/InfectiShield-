{
 "cells": [
  {
   "cell_type": "markdown",
   "metadata": {},
   "source": [
    "Infectishield ML App\n"
   ]
  },
  {
   "cell_type": "markdown",
   "metadata": {},
   "source": [
    "Importing Libraries and Reading the Data"
   ]
  },
  {
   "cell_type": "code",
   "execution_count": 1,
   "metadata": {},
   "outputs": [],
   "source": [
    "import numpy as np\n",
    "import pandas as pd"
   ]
  },
  {
   "cell_type": "code",
   "execution_count": 2,
   "metadata": {},
   "outputs": [],
   "source": [
    "df = pd.read_csv(r'C:\\Users\\asaa9\\OneDrive\\Desktop\\InfectiShield\\Dataset.csv')\n",
    "\n",
    "# Data was obtained from https://www.cdc.gov/mmwr/preview/mmwrhtml/mm6107a1.htm?s_cid=mm6107a1_e \n",
    "# Influenza Vaccination Coverage Among Pregnant Women — 29 States and New York City, 2009–10 Season"
   ]
  },
  {
   "cell_type": "code",
   "execution_count": 3,
   "metadata": {},
   "outputs": [
    {
     "name": "stdout",
     "output_type": "stream",
     "text": [
      "<class 'pandas.core.frame.DataFrame'>\n",
      "RangeIndex: 28 entries, 0 to 27\n",
      "Data columns (total 9 columns):\n",
      " #   Column       Non-Null Count  Dtype  \n",
      "---  ------       --------------  -----  \n",
      " 0   State        28 non-null     object \n",
      " 1   Seasonal n   28 non-null     int64  \n",
      " 2   Seasonal %   28 non-null     object \n",
      " 3   Longitude    28 non-null     float64\n",
      " 4   Latitude     28 non-null     float64\n",
      " 5   2009 H1N1 n  28 non-null     int64  \n",
      " 6   2009 H1N1 %  28 non-null     object \n",
      " 7   Longitude.1  28 non-null     float64\n",
      " 8   Latitude.1   28 non-null     float64\n",
      "dtypes: float64(4), int64(2), object(3)\n",
      "memory usage: 2.1+ KB\n"
     ]
    }
   ],
   "source": [
    "#Exploratory Data Analysis \n",
    "\n",
    "df.info()\n"
   ]
  },
  {
   "cell_type": "code",
   "execution_count": 4,
   "metadata": {},
   "outputs": [
    {
     "data": {
      "text/html": [
       "<div>\n",
       "<style scoped>\n",
       "    .dataframe tbody tr th:only-of-type {\n",
       "        vertical-align: middle;\n",
       "    }\n",
       "\n",
       "    .dataframe tbody tr th {\n",
       "        vertical-align: top;\n",
       "    }\n",
       "\n",
       "    .dataframe thead th {\n",
       "        text-align: right;\n",
       "    }\n",
       "</style>\n",
       "<table border=\"1\" class=\"dataframe\">\n",
       "  <thead>\n",
       "    <tr style=\"text-align: right;\">\n",
       "      <th></th>\n",
       "      <th>State</th>\n",
       "      <th>Seasonal n</th>\n",
       "      <th>Seasonal %</th>\n",
       "      <th>Longitude</th>\n",
       "      <th>Latitude</th>\n",
       "      <th>2009 H1N1 n</th>\n",
       "      <th>2009 H1N1 %</th>\n",
       "      <th>Longitude.1</th>\n",
       "      <th>Latitude.1</th>\n",
       "    </tr>\n",
       "  </thead>\n",
       "  <tbody>\n",
       "    <tr>\n",
       "      <th>0</th>\n",
       "      <td>Colorado</td>\n",
       "      <td>1317</td>\n",
       "      <td>52.80%</td>\n",
       "      <td>-106.133611</td>\n",
       "      <td>38.843841</td>\n",
       "      <td>1316</td>\n",
       "      <td>44.20%</td>\n",
       "      <td>-106.133611</td>\n",
       "      <td>38.843841</td>\n",
       "    </tr>\n",
       "    <tr>\n",
       "      <th>1</th>\n",
       "      <td>Florida</td>\n",
       "      <td>927</td>\n",
       "      <td>26.10%</td>\n",
       "      <td>-81.928961</td>\n",
       "      <td>28.932040</td>\n",
       "      <td>924</td>\n",
       "      <td>28.70%</td>\n",
       "      <td>-81.928961</td>\n",
       "      <td>28.932040</td>\n",
       "    </tr>\n",
       "    <tr>\n",
       "      <th>2</th>\n",
       "      <td>Georgia</td>\n",
       "      <td>614</td>\n",
       "      <td>29.90%</td>\n",
       "      <td>-83.627580</td>\n",
       "      <td>32.839681</td>\n",
       "      <td>617</td>\n",
       "      <td>28.40%</td>\n",
       "      <td>-83.627580</td>\n",
       "      <td>32.839681</td>\n",
       "    </tr>\n",
       "    <tr>\n",
       "      <th>3</th>\n",
       "      <td>Hawaii</td>\n",
       "      <td>974</td>\n",
       "      <td>50.30%</td>\n",
       "      <td>-157.857749</td>\n",
       "      <td>21.304850</td>\n",
       "      <td>987</td>\n",
       "      <td>44.90%</td>\n",
       "      <td>-157.857749</td>\n",
       "      <td>21.304850</td>\n",
       "    </tr>\n",
       "    <tr>\n",
       "      <th>4</th>\n",
       "      <td>Illinois</td>\n",
       "      <td>1071</td>\n",
       "      <td>47.10%</td>\n",
       "      <td>-88.997710</td>\n",
       "      <td>40.485010</td>\n",
       "      <td>1079</td>\n",
       "      <td>37.70%</td>\n",
       "      <td>-88.997710</td>\n",
       "      <td>40.485010</td>\n",
       "    </tr>\n",
       "  </tbody>\n",
       "</table>\n",
       "</div>"
      ],
      "text/plain": [
       "      State  Seasonal n Seasonal %   Longitude   Latitude  2009 H1N1 n  \\\n",
       "0  Colorado        1317     52.80% -106.133611  38.843841         1316   \n",
       "1   Florida         927     26.10%  -81.928961  28.932040          924   \n",
       "2   Georgia         614     29.90%  -83.627580  32.839681          617   \n",
       "3    Hawaii         974     50.30% -157.857749  21.304850          987   \n",
       "4  Illinois        1071     47.10%  -88.997710  40.485010         1079   \n",
       "\n",
       "  2009 H1N1 %  Longitude.1  Latitude.1  \n",
       "0      44.20%  -106.133611   38.843841  \n",
       "1      28.70%   -81.928961   28.932040  \n",
       "2      28.40%   -83.627580   32.839681  \n",
       "3      44.90%  -157.857749   21.304850  \n",
       "4      37.70%   -88.997710   40.485010  "
      ]
     },
     "execution_count": 4,
     "metadata": {},
     "output_type": "execute_result"
    }
   ],
   "source": [
    "df.head()"
   ]
  },
  {
   "cell_type": "code",
   "execution_count": 5,
   "metadata": {},
   "outputs": [
    {
     "name": "stdout",
     "output_type": "stream",
     "text": [
      "      State  Seasonal n Seasonal %   Longitude   Latitude\n",
      "0  Colorado        1317     52.80% -106.133611  38.843841\n",
      "1   Florida         927     26.10%  -81.928961  28.932040\n",
      "2   Georgia         614     29.90%  -83.627580  32.839681\n",
      "3    Hawaii         974     50.30% -157.857749  21.304850\n",
      "4  Illinois        1071     47.10%  -88.997710  40.485010\n"
     ]
    }
   ],
   "source": [
    "# Creating a new Data Frame with Seasonal Virus Data Only by dropping the last 4 columns \n",
    "# App is created for predicting Seasonal Flu Risk\n",
    "\n",
    "\n",
    "# Create a new DataFrame by dropping columns\n",
    "df = df.drop(df.columns[5:], axis=1)\n",
    "\n",
    "# Displaying the new DataFrame\n",
    "print(df.head())\n"
   ]
  },
  {
   "cell_type": "code",
   "execution_count": 6,
   "metadata": {},
   "outputs": [
    {
     "data": {
      "text/html": [
       "<div>\n",
       "<style scoped>\n",
       "    .dataframe tbody tr th:only-of-type {\n",
       "        vertical-align: middle;\n",
       "    }\n",
       "\n",
       "    .dataframe tbody tr th {\n",
       "        vertical-align: top;\n",
       "    }\n",
       "\n",
       "    .dataframe thead th {\n",
       "        text-align: right;\n",
       "    }\n",
       "</style>\n",
       "<table border=\"1\" class=\"dataframe\">\n",
       "  <thead>\n",
       "    <tr style=\"text-align: right;\">\n",
       "      <th></th>\n",
       "      <th>State</th>\n",
       "      <th>Seasonal n</th>\n",
       "      <th>Seasonal %</th>\n",
       "      <th>Longitude</th>\n",
       "      <th>Latitude</th>\n",
       "    </tr>\n",
       "  </thead>\n",
       "  <tbody>\n",
       "    <tr>\n",
       "      <th>0</th>\n",
       "      <td>Colorado</td>\n",
       "      <td>1317</td>\n",
       "      <td>52.80%</td>\n",
       "      <td>-106.133611</td>\n",
       "      <td>38.843841</td>\n",
       "    </tr>\n",
       "    <tr>\n",
       "      <th>1</th>\n",
       "      <td>Florida</td>\n",
       "      <td>927</td>\n",
       "      <td>26.10%</td>\n",
       "      <td>-81.928961</td>\n",
       "      <td>28.932040</td>\n",
       "    </tr>\n",
       "    <tr>\n",
       "      <th>2</th>\n",
       "      <td>Georgia</td>\n",
       "      <td>614</td>\n",
       "      <td>29.90%</td>\n",
       "      <td>-83.627580</td>\n",
       "      <td>32.839681</td>\n",
       "    </tr>\n",
       "    <tr>\n",
       "      <th>3</th>\n",
       "      <td>Hawaii</td>\n",
       "      <td>974</td>\n",
       "      <td>50.30%</td>\n",
       "      <td>-157.857749</td>\n",
       "      <td>21.304850</td>\n",
       "    </tr>\n",
       "    <tr>\n",
       "      <th>4</th>\n",
       "      <td>Illinois</td>\n",
       "      <td>1071</td>\n",
       "      <td>47.10%</td>\n",
       "      <td>-88.997710</td>\n",
       "      <td>40.485010</td>\n",
       "    </tr>\n",
       "  </tbody>\n",
       "</table>\n",
       "</div>"
      ],
      "text/plain": [
       "      State  Seasonal n Seasonal %   Longitude   Latitude\n",
       "0  Colorado        1317     52.80% -106.133611  38.843841\n",
       "1   Florida         927     26.10%  -81.928961  28.932040\n",
       "2   Georgia         614     29.90%  -83.627580  32.839681\n",
       "3    Hawaii         974     50.30% -157.857749  21.304850\n",
       "4  Illinois        1071     47.10%  -88.997710  40.485010"
      ]
     },
     "execution_count": 6,
     "metadata": {},
     "output_type": "execute_result"
    }
   ],
   "source": [
    "#Displaying the Top 5 columns of the new Data Frame \n",
    "\n",
    "df.head()"
   ]
  },
  {
   "cell_type": "code",
   "execution_count": 7,
   "metadata": {},
   "outputs": [
    {
     "name": "stdout",
     "output_type": "stream",
     "text": [
      "<class 'pandas.core.frame.DataFrame'>\n",
      "RangeIndex: 28 entries, 0 to 27\n",
      "Data columns (total 5 columns):\n",
      " #   Column      Non-Null Count  Dtype  \n",
      "---  ------      --------------  -----  \n",
      " 0   State       28 non-null     object \n",
      " 1   Seasonal n  28 non-null     int64  \n",
      " 2   Seasonal %  28 non-null     object \n",
      " 3   Longitude   28 non-null     float64\n",
      " 4   Latitude    28 non-null     float64\n",
      "dtypes: float64(2), int64(1), object(2)\n",
      "memory usage: 1.2+ KB\n"
     ]
    }
   ],
   "source": [
    "df.info()"
   ]
  },
  {
   "cell_type": "markdown",
   "metadata": {},
   "source": [
    "CREATING INFECTISHIELD ML APP\n",
    "\n",
    "1. Defining Risk Parameters based on Vaccination Rate (Seasonal %)\n",
    "2. Training a Random Forest Model to Predict Risk Classes (High, Moderate and Low)\n",
    "3. Assigning Weights to Flu Symptoms\n",
    "4. Creating a Matrix that assigns a Final Risk Prediction to the User based on the Model and Symptoms \n",
    "5. Visualization of Final Risk Prediction "
   ]
  },
  {
   "cell_type": "markdown",
   "metadata": {},
   "source": [
    "#1. Defining Risk Parameters"
   ]
  },
  {
   "cell_type": "code",
   "execution_count": 8,
   "metadata": {},
   "outputs": [],
   "source": [
    "# Defining Risk Parameters and Adding Risk Level to make a New DataFrame \n",
    "\n",
    "def get_risk(rate):\n",
    "    rate = float(rate.rstrip('%')) / 100  # Converts Seasonal % values to float\n",
    "    if rate > 0.7:\n",
    "        return 'Low'\n",
    "    elif rate > 0.4:\n",
    "        return 'Moderate'\n",
    "    else:\n",
    "        return 'High'\n",
    "\n",
    "\n",
    "df['Risk'] = df['Seasonal %'].apply(get_risk)  # Apply the get_risk function to the 'Seasonal %' column and create a new 'Risk' column\n",
    "\n",
    "\n"
   ]
  },
  {
   "cell_type": "markdown",
   "metadata": {},
   "source": [
    "#2. Training a Random Forest Model to Predict Risk Classes (High, Moderate and Low)\n"
   ]
  },
  {
   "cell_type": "code",
   "execution_count": 11,
   "metadata": {},
   "outputs": [],
   "source": [
    "from sklearn.model_selection import KFold\n",
    "from sklearn.ensemble import RandomForestClassifier \n",
    "from sklearn.preprocessing import LabelEncoder"
   ]
  },
  {
   "cell_type": "code",
   "execution_count": 12,
   "metadata": {},
   "outputs": [],
   "source": [
    "# Extracting Features for the Model\n",
    "\n",
    "le = LabelEncoder()\n",
    "le.fit(df['Risk'])\n",
    "X = df[['Longitude','Latitude']]\n",
    "y = df['Risk']"
   ]
  },
  {
   "cell_type": "code",
   "execution_count": 13,
   "metadata": {},
   "outputs": [
    {
     "name": "stdout",
     "output_type": "stream",
     "text": [
      "Average CV Accuracy: 0.833\n",
      "Enter location coordinates:\n",
      "Prediction: Moderate\n"
     ]
    }
   ],
   "source": [
    "# K-Fold Cross Validation and RF Model\n",
    "\n",
    "kf = KFold(n_splits=10, shuffle=True, random_state=42)\n",
    "\n",
    "\n",
    "rf = RandomForestClassifier(n_estimators=1000) \n",
    "\n",
    "scores = []\n",
    "for train_index, test_index in kf.split(X):\n",
    "  X_train, X_test = X.iloc[train_index], X.iloc[test_index]\n",
    "  y_train, y_test = y.iloc[train_index], y.iloc[test_index]\n",
    "  \n",
    "  # Fit the model\n",
    "  rf.fit(X_train, y_train)\n",
    "  \n",
    "  score = rf.score(X_test, y_test)\n",
    "  scores.append(score)  \n",
    "  \n",
    "  Y_pred = rf.predict(X_test)\n",
    "  \n",
    "  \n",
    "  \n",
    "rf.fit(X, y)\n",
    "  \n",
    " \n",
    "print(\"Average CV Accuracy: {:.3f}\".format(sum(scores)/len(scores)))\n",
    "\n",
    "\n",
    "\n",
    "\n",
    "# Collecting new data points\n",
    "new_lats = []\n",
    "new_lons = []\n",
    "\n",
    "\n",
    "print(\"Enter location coordinates:\")\n",
    "lat = float(input(\"Latitude: \"))\n",
    "lon = float(input(\"Longitude: \"))\n",
    "\n",
    "\n",
    "  \n",
    "  # Add to lists\n",
    "new_lats.append(lat)\n",
    "new_lons.append(lon)\n",
    "\n",
    "# Create DataFrame\n",
    "test_df = pd.DataFrame({'Longitude': new_lons, 'Latitude': new_lats})\n",
    "\n",
    "# Extract features \n",
    "X_new = test_df[['Longitude', 'Latitude']]\n",
    "\n",
    "# Make predictions\n",
    "Y_new = rf.predict(X_new) \n",
    "\n",
    "print(f\"Prediction: {Y_new[0]}\")\n",
    "\n",
    "# ML model prediction\n",
    "if Y_new[0] == 'High':\n",
    "    ml_risk = 3\n",
    "elif Y_new[0] == 'Moderate':\n",
    "    ml_risk = 2\n",
    "else:\n",
    "    ml_risk = 1"
   ]
  },
  {
   "cell_type": "markdown",
   "metadata": {},
   "source": [
    "#3. Assigning Weights to Flu Symptoms\n",
    "\n",
    "Symptoms Weight was distributed subjectively based on research\n",
    "\n",
    "User Input: Y = Yes, N = No."
   ]
  },
  {
   "cell_type": "code",
   "execution_count": 14,
   "metadata": {},
   "outputs": [
    {
     "name": "stdout",
     "output_type": "stream",
     "text": [
      "Select your symptoms:\n",
      "Prediction: Moderate Risk\n"
     ]
    }
   ],
   "source": [
    "possible_symptoms = ['Fever', 'Cough', 'Sore throat', 'Body ache',  \n",
    "                     'Headache', 'Fatigue', 'Vomiting', 'Diarrhea', \n",
    "                     'Runny nose', 'Eye pain', 'Sneezing', 'Dizziness', 'Chills']\n",
    "\n",
    "\n",
    "# Symptom weights \n",
    "symptom_weights = {'Fever': 0.12, 'Cough': 0.12, 'Sore throat': 0.11, \n",
    "                   'Body aches': 0.11, 'Headache': 0.08, 'Fatigue': 0.11, \n",
    "                   'Vomiting': 0.04,  'Diarrhea': 0.05, 'Runny nose': 0.11, \n",
    "                   'Eye pain': 0.01, 'Sneezing': 0.03, 'Dizziness': 0.01, 'Chills':0.1}\n",
    "\n",
    "print(\"Select your symptoms:\")\n",
    "patient_symptoms = []\n",
    "for i in possible_symptoms:\n",
    "  response = input(f\"{i} (y/n)? \")\n",
    "  if response.lower() == 'y':\n",
    "    patient_symptoms.append(i)\n",
    "\n",
    "\n",
    "# Calculate symptom score\n",
    "symptom_score = 0\n",
    "for i in patient_symptoms:\n",
    "  if i in symptom_weights:\n",
    "    symptom_score += symptom_weights[i]\n",
    "\n",
    "\n",
    "if symptom_score >= 0.7:\n",
    "    symptom_risk = 3\n",
    "elif symptom_score >= 0.4:  \n",
    "    symptom_risk = 2\n",
    "else:\n",
    "    symptom_risk = 1\n",
    "\n",
    "\n",
    "# Print the prediction based on the symptom risk level\n",
    "if symptom_risk == 3:\n",
    "    print(\"Prediction: High Risk\")\n",
    "elif symptom_risk == 2:\n",
    "    print(\"Prediction: Moderate Risk\")\n",
    "elif symptom_risk == 1:\n",
    "    print(\"Prediction: Low Risk\")\n",
    "else:\n",
    "    print(\"Prediction: Unknown Risk\")\n"
   ]
  },
  {
   "cell_type": "markdown",
   "metadata": {},
   "source": [
    "#4. Final Risk Prediction\n"
   ]
  },
  {
   "cell_type": "code",
   "execution_count": 15,
   "metadata": {},
   "outputs": [
    {
     "name": "stdout",
     "output_type": "stream",
     "text": [
      "Final Risk Prediction: Moderate\n"
     ]
    }
   ],
   "source": [
    "# Create final risk prediction with a risk matrix\n",
    "risk_matrix = {\n",
    "    (1,1): 'Low',\n",
    "    (1,2): 'Low',\n",
    "    (1,3): 'Moderate',\n",
    "    (2,1): 'Low',\n",
    "    (2,2): 'Moderate',\n",
    "    (2,3): 'High',\n",
    "    (3,1): 'Moderate',\n",
    "    (3,2): 'High',\n",
    "    (3,3): 'High'\n",
    "}\n",
    "\n",
    "# Combine risks\n",
    "combined_risk = risk_matrix[(ml_risk, symptom_risk)]\n",
    "\n",
    "print(f\"Final Risk Prediction: {combined_risk}\")"
   ]
  },
  {
   "cell_type": "markdown",
   "metadata": {},
   "source": [
    "#5. Visualization of Final Risk Prediction "
   ]
  },
  {
   "cell_type": "code",
   "execution_count": 16,
   "metadata": {},
   "outputs": [
    {
     "data": {
      "image/png": "[encoded data removed]",
      "text/plain": [
       "<Figure size 800x600 with 1 Axes>"
      ]
     },
     "metadata": {},
     "output_type": "display_data"
    }
   ],
   "source": [
    "import matplotlib.pyplot as plt\n",
    "\n",
    "# Defining the symptom input by the user\n",
    "user_symptoms = patient_symptoms\n",
    "\n",
    "# Create a dictionary to map risk levels to colors and labels\n",
    "risk_colors = {\n",
    "    'Low': 'green',\n",
    "    'Moderate': 'yellow',\n",
    "    'High': 'red'\n",
    "}\n",
    "\n",
    "\n",
    "risk_color = risk_colors[combined_risk] # Get the color and label based on the combined risk level\n",
    "\n",
    "\n",
    "plt.figure(figsize=(8, 6))\n",
    "plt.bar([combined_risk], [1], color=risk_color)\n",
    "plt.title('Risk Level')\n",
    "plt.xlabel('Risk Level') # Creates a bar chart visualization\n",
    "\n",
    "\n",
    "if user_symptoms:\n",
    "    symptom_text = '\\n'.join(user_symptoms)\n",
    "    plt.text(0.5, 0.5, f'Symptoms:\\n{symptom_text}', ha='center', va='center', fontsize=12)  # Add symptoms as text to the chart\n",
    "\n",
    "\n",
    "plt.show() # Show the visualization"
   ]
  }
 ],
 "metadata": {
  "kernelspec": {
   "display_name": "base",
   "language": "python",
   "name": "python3"
  },
  "language_info": {
   "codemirror_mode": {
    "name": "ipython",
    "version": 3
   },
   "file_extension": ".py",
   "mimetype": "text/x-python",
   "name": "python",
   "nbconvert_exporter": "python",
   "pygments_lexer": "ipython3",
   "version": "3.11.4"
  },
  "orig_nbformat": 4
 },
 "nbformat": 4,
 "nbformat_minor": 2
}
